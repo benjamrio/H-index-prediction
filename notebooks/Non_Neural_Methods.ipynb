{
  "cells": [
    {
      "cell_type": "code",
      "execution_count": null,
      "metadata": {
        "id": "wyOgtziZK2Yq"
      },
      "outputs": [],
      "source": [
        "import os\n",
        "coauthorships_path=os.path.join(os.getcwd(), \"data\", \"coauthorships.txt\")"
      ]
    },
    {
      "cell_type": "code",
      "execution_count": null,
      "metadata": {
        "colab": {
          "base_uri": "https://localhost:8080/",
          "height": 35
        },
        "id": "t7nJUebgKvDe",
        "outputId": "4044c36d-e10a-4bd7-b47e-a9a143c602d7"
      },
      "outputs": [
        {
          "data": {
            "application/vnd.google.colaboratory.intrinsic+json": {
              "type": "string"
            },
            "text/plain": [
              "'Graph with 217801 nodes and 1718164 edges'"
            ]
          },
          "execution_count": 5,
          "metadata": {},
          "output_type": "execute_result"
        }
      ],
      "source": [
        "\n",
        "import networkx as nx\n",
        "g = nx.read_edgelist(coauthorships_path,\n",
        "                     create_using=nx.Graph(), nodetype=int)\n",
        "nx.info(g)\n"
      ]
    },
    {
      "cell_type": "code",
      "execution_count": null,
      "metadata": {
        "id": "grkBT9AmLK7_"
      },
      "outputs": [],
      "source": [
        "adjacency = nx.adjacency_matrix(g)"
      ]
    },
    {
      "cell_type": "code",
      "execution_count": null,
      "metadata": {
        "id": "4htDGNTPLphu"
      },
      "outputs": [],
      "source": [
        "import numpy as np"
      ]
    },
    {
      "cell_type": "code",
      "execution_count": null,
      "metadata": {
        "colab": {
          "base_uri": "https://localhost:8080/"
        },
        "id": "VNbqvWeKLjPl",
        "outputId": "ae3d18fd-c23c-489d-cde2-f4ed6bb8924f"
      },
      "outputs": [
        {
          "data": {
            "text/plain": [
              "(217801, 2)"
            ]
          },
          "execution_count": 37,
          "metadata": {},
          "output_type": "execute_result"
        }
      ],
      "source": [
        "from sknetwork.embedding import SVD\n",
        "\n",
        "svd = SVD()\n",
        "\n",
        "embedding = svd.fit_transform(adjacency)\n",
        "embedding.shape"
      ]
    },
    {
      "cell_type": "code",
      "execution_count": null,
      "metadata": {
        "colab": {
          "base_uri": "https://localhost:8080/",
          "height": 283
        },
        "id": "BYgUyCdjNIZU",
        "outputId": "b720a08a-ab13-4bc2-9a02-ebb77e61cbf7"
      },
      "outputs": [
        {
          "data": {
            "text/plain": [
              "<matplotlib.axes._subplots.AxesSubplot at 0x7f09ed2b3690>"
            ]
          },
          "execution_count": 38,
          "metadata": {},
          "output_type": "execute_result"
        },
        {
          "data": {
            "image/png": "[encoded data removed]",
            "text/plain": [
              "<Figure size 432x288 with 1 Axes>"
            ]
          },
          "metadata": {
            "needs_background": "light"
          },
          "output_type": "display_data"
        }
      ],
      "source": [
        "import seaborn as sn\n",
        "sn.scatterplot(x=embedding[:,0], y=embedding[:,1])"
      ]
    },
    {
      "cell_type": "code",
      "execution_count": null,
      "metadata": {
        "colab": {
          "base_uri": "https://localhost:8080/"
        },
        "id": "lfeOFXEXLr3a",
        "outputId": "7212b440-b088-4521-f6fc-6dc028ff2db8"
      },
      "outputs": [
        {
          "data": {
            "text/plain": [
              "(217801, 2)"
            ]
          },
          "execution_count": 34,
          "metadata": {},
          "output_type": "execute_result"
        }
      ],
      "source": [
        "from sknetwork.embedding import PCA\n",
        "pca = PCA(n_components=2, normalized=True)\n",
        "\n",
        "embedding = pca.fit_transform(adjacency)\n",
        "embedding.shape"
      ]
    },
    {
      "cell_type": "code",
      "execution_count": null,
      "metadata": {
        "colab": {
          "base_uri": "https://localhost:8080/"
        },
        "id": "-SJYvtLZMDeN",
        "outputId": "75d48f5a-7d96-4e11-9eae-3dc19b004620"
      },
      "outputs": [
        {
          "name": "stdout",
          "output_type": "stream",
          "text": [
            "[[-0.00012958  0.00012556]\n",
            " [-0.00012954  0.00012551]\n",
            " [-0.00012955  0.00012552]\n",
            " ...\n",
            " [-0.00012953  0.00012549]\n",
            " [-0.00012953  0.00012549]\n",
            " [-0.00012953  0.00012549]]\n"
          ]
        }
      ],
      "source": [
        "print(embedding)"
      ]
    },
    {
      "cell_type": "code",
      "execution_count": null,
      "metadata": {
        "colab": {
          "base_uri": "https://localhost:8080/",
          "height": 283
        },
        "id": "FFVY_40fMPWR",
        "outputId": "7115ca68-d611-4bd0-d548-9d5a88843f88"
      },
      "outputs": [
        {
          "data": {
            "text/plain": [
              "<matplotlib.axes._subplots.AxesSubplot at 0x7f09f29250d0>"
            ]
          },
          "execution_count": 36,
          "metadata": {},
          "output_type": "execute_result"
        },
        {
          "data": {
            "image/png": "[encoded data removed]",
            "text/plain": [
              "<Figure size 432x288 with 1 Axes>"
            ]
          },
          "metadata": {
            "needs_background": "light"
          },
          "output_type": "display_data"
        }
      ],
      "source": [
        "import seaborn as sn\n",
        "sn.scatterplot(x=embedding[:,0], y=embedding[:,1])"
      ]
    },
    {
      "cell_type": "code",
      "execution_count": null,
      "metadata": {
        "colab": {
          "base_uri": "https://localhost:8080/"
        },
        "id": "__n9UPMlMwxU",
        "outputId": "20c95abe-98ff-427a-da62-c370e3400c0b"
      },
      "outputs": [
        {
          "data": {
            "text/plain": [
              "724"
            ]
          },
          "execution_count": 32,
          "metadata": {},
          "output_type": "execute_result"
        }
      ],
      "source": [
        "from sknetwork.topology import CoreDecomposition\n",
        "kcore = CoreDecomposition()\n",
        "kcore.fit(adjacency)\n",
        "kcore.core_value_"
      ]
    },
    {
      "cell_type": "code",
      "execution_count": null,
      "metadata": {
        "colab": {
          "base_uri": "https://localhost:8080/"
        },
        "id": "A6ZrTypAOQ2i",
        "outputId": "92f2975b-b589-4593-e079-7cf618055130"
      },
      "outputs": [
        {
          "data": {
            "text/plain": [
              "(217801, 3)"
            ]
          },
          "execution_count": 39,
          "metadata": {},
          "output_type": "execute_result"
        }
      ],
      "source": [
        "from sknetwork.embedding import Spectral\n",
        "spectral = Spectral(n_components=3)\n",
        "embedding = spectral.fit_transform(adjacency)\n",
        "embedding.shape"
      ]
    },
    {
      "cell_type": "code",
      "execution_count": null,
      "metadata": {
        "colab": {
          "base_uri": "https://localhost:8080/",
          "height": 265
        },
        "id": "0RyEIvwfOSjX",
        "outputId": "17236fd5-f64e-423f-ff5d-2fa385f24f5b"
      },
      "outputs": [
        {
          "data": {
            "text/plain": [
              "<mpl_toolkits.mplot3d.art3d.Path3DCollection at 0x7f0a0109e3d0>"
            ]
          },
          "execution_count": 41,
          "metadata": {},
          "output_type": "execute_result"
        },
        {
          "data": {
            "image/png": "[encoded data removed]",
            "text/plain": [
              "<Figure size 432x288 with 1 Axes>"
            ]
          },
          "metadata": {
            "needs_background": "light"
          },
          "output_type": "display_data"
        }
      ],
      "source": [
        "from mpl_toolkits import mplot3d\n",
        "%matplotlib inline\n",
        "import numpy as np\n",
        "import matplotlib.pyplot as plt\n",
        "fig = plt.figure()\n",
        "ax = plt.axes(projection='3d')\n",
        "ax.scatter3D(embedding[:,0], embedding[:,1], embedding[:,2], c=embedding[:,2], cmap=\"Greens\")"
      ]
    }
  ],
  "metadata": {
    "colab": {
      "name": "Non Neural Methods",
      "provenance": []
    },
    "kernelspec": {
      "display_name": "Python 3",
      "name": "python3"
    },
    "language_info": {
      "name": "python"
    }
  },
  "nbformat": 4,
  "nbformat_minor": 0
}
