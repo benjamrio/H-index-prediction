{
 "cells": [
  {
   "cell_type": "code",
   "execution_count": 1,
   "id": "7b3b9120",
   "metadata": {},
   "outputs": [],
   "source": [
    "import pandas as pd\n",
    "import numpy as np\n",
    "import matplotlib.pyplot as plt\n",
    "import seaborn as sn\n",
    "import networkx as nx"
   ]
  },
  {
   "cell_type": "code",
   "execution_count": 2,
   "id": "8834fa09",
   "metadata": {},
   "outputs": [
    {
     "data": {
      "text/html": [
       "<div>\n",
       "<style scoped>\n",
       "    .dataframe tbody tr th:only-of-type {\n",
       "        vertical-align: middle;\n",
       "    }\n",
       "\n",
       "    .dataframe tbody tr th {\n",
       "        vertical-align: top;\n",
       "    }\n",
       "\n",
       "    .dataframe thead th {\n",
       "        text-align: right;\n",
       "    }\n",
       "</style>\n",
       "<table border=\"1\" class=\"dataframe\">\n",
       "  <thead>\n",
       "    <tr style=\"text-align: right;\">\n",
       "      <th></th>\n",
       "      <th>A</th>\n",
       "      <th>B</th>\n",
       "    </tr>\n",
       "  </thead>\n",
       "  <tbody>\n",
       "    <tr>\n",
       "      <th>0</th>\n",
       "      <td>2002218453</td>\n",
       "      <td>1999212242</td>\n",
       "    </tr>\n",
       "    <tr>\n",
       "      <th>1</th>\n",
       "      <td>2002218453</td>\n",
       "      <td>2032640503</td>\n",
       "    </tr>\n",
       "    <tr>\n",
       "      <th>2</th>\n",
       "      <td>2002218453</td>\n",
       "      <td>2475931411</td>\n",
       "    </tr>\n",
       "    <tr>\n",
       "      <th>3</th>\n",
       "      <td>2002218453</td>\n",
       "      <td>2477743428</td>\n",
       "    </tr>\n",
       "    <tr>\n",
       "      <th>4</th>\n",
       "      <td>2002218453</td>\n",
       "      <td>2504846374</td>\n",
       "    </tr>\n",
       "  </tbody>\n",
       "</table>\n",
       "</div>"
      ],
      "text/plain": [
       "            A           B\n",
       "0  2002218453  1999212242\n",
       "1  2002218453  2032640503\n",
       "2  2002218453  2475931411\n",
       "3  2002218453  2477743428\n",
       "4  2002218453  2504846374"
      ]
     },
     "execution_count": 2,
     "metadata": {},
     "output_type": "execute_result"
    }
   ],
   "source": [
    "coauthors=pd.read_csv(\"coauthorship.edgelist\", names=[\"A\", \"B\"], delim_whitespace=True)\n",
    "coauthors.head()"
   ]
  },
  {
   "cell_type": "code",
   "execution_count": 53,
   "id": "f9aaf3a7",
   "metadata": {},
   "outputs": [
    {
     "data": {
      "text/plain": [
       "0    1036332\n",
       "1    1101850\n",
       "2    1336878\n",
       "3    1515524\n",
       "4    1606427\n",
       "Name: author, dtype: object"
      ]
     },
     "execution_count": 53,
     "metadata": {},
     "output_type": "execute_result"
    }
   ],
   "source": [
    "authors=pd.read_csv(\"author_papers.txt\", delimiter=\"\\n\", header=None)\n",
    "authors[[\"author\", \"texts\"]]=authors[0].str.split(\":\", 1, expand=True)\n",
    "authors.drop(0, axis=1, inplace=True)\n",
    "authors[\"author\"].head()"
   ]
  },
  {
   "cell_type": "markdown",
   "id": "eaa417d6",
   "metadata": {},
   "source": [
    "# Analysing graph structure"
   ]
  },
  {
   "cell_type": "code",
   "execution_count": 3,
   "id": "1f5749e7",
   "metadata": {},
   "outputs": [
    {
     "name": "stdout",
     "output_type": "stream",
     "text": [
      "Name: \n",
      "Type: Graph\n",
      "Number of nodes: 217801\n",
      "Number of edges: 1718164\n",
      "Average degree:  15.7774\n"
     ]
    }
   ],
   "source": [
    "g = nx.read_edgelist(\"coauthorship.edgelist\",\n",
    "                     create_using=nx.Graph(), nodetype=int)\n",
    "\n",
    "# check if the data has been read properly or not.\n",
    "\n",
    "print(nx.info(g))"
   ]
  },
  {
   "cell_type": "code",
   "execution_count": 4,
   "id": "c576326a",
   "metadata": {},
   "outputs": [
    {
     "name": "stdout",
     "output_type": "stream",
     "text": [
      "Name: \n",
      "Type: Graph\n",
      "Number of nodes: 20\n",
      "Number of edges: 80\n",
      "Average degree:   8.0000\n"
     ]
    },
    {
     "data": {
      "image/png": "[encoded data removed]",
      "text/plain": [
       "<Figure size 432x288 with 1 Axes>"
      ]
     },
     "metadata": {},
     "output_type": "display_data"
    }
   ],
   "source": [
    "NODE_INITIAL=1797575884\n",
    "subgraph = g.subgraph(g.neighbors(NODE_INITIAL))\n",
    "print(nx.info(subgraph))\n",
    "nx.draw_networkx(\n",
    "        subgraph,\n",
    "        node_size=150,\n",
    "        linewidths=1.5,\n",
    "        edge_color='#a74bf5',\n",
    "        edgecolors='b',\n",
    "        node_color='b',\n",
    "        with_labels=False\n",
    "        )\n",
    "plt.axis('off')\n",
    "plt.show()"
   ]
  },
  {
   "cell_type": "code",
   "execution_count": 47,
   "id": "f9aa1b70",
   "metadata": {},
   "outputs": [
    {
     "data": {
      "text/plain": [
       "<217801x217801 sparse matrix of type '<class 'numpy.intc'>'\n",
       "\twith 3436328 stored elements in Compressed Sparse Row format>"
      ]
     },
     "execution_count": 47,
     "metadata": {},
     "output_type": "execute_result"
    }
   ],
   "source": [
    "nx.adjacency_matrix(g)"
   ]
  },
  {
   "cell_type": "markdown",
   "id": "be0292d0",
   "metadata": {},
   "source": [
    "La table n'est pas symétrique. On préfère travailler systématiquement avec une seule colonne pour un auteur donné, donc on contatene la table coauthors avec son symétrique. Ceci aide pour le code mais pas pour la visualisation."
   ]
  },
  {
   "cell_type": "code",
   "execution_count": 5,
   "id": "625c66c0",
   "metadata": {},
   "outputs": [
    {
     "data": {
      "text/html": [
       "<div>\n",
       "<style scoped>\n",
       "    .dataframe tbody tr th:only-of-type {\n",
       "        vertical-align: middle;\n",
       "    }\n",
       "\n",
       "    .dataframe tbody tr th {\n",
       "        vertical-align: top;\n",
       "    }\n",
       "\n",
       "    .dataframe thead th {\n",
       "        text-align: right;\n",
       "    }\n",
       "</style>\n",
       "<table border=\"1\" class=\"dataframe\">\n",
       "  <thead>\n",
       "    <tr style=\"text-align: right;\">\n",
       "      <th></th>\n",
       "      <th>A</th>\n",
       "      <th>B</th>\n",
       "    </tr>\n",
       "  </thead>\n",
       "  <tbody>\n",
       "    <tr>\n",
       "      <th>0</th>\n",
       "      <td>2002218453</td>\n",
       "      <td>1999212242</td>\n",
       "    </tr>\n",
       "    <tr>\n",
       "      <th>1</th>\n",
       "      <td>2002218453</td>\n",
       "      <td>2032640503</td>\n",
       "    </tr>\n",
       "    <tr>\n",
       "      <th>2</th>\n",
       "      <td>2002218453</td>\n",
       "      <td>2475931411</td>\n",
       "    </tr>\n",
       "    <tr>\n",
       "      <th>3</th>\n",
       "      <td>2002218453</td>\n",
       "      <td>2477743428</td>\n",
       "    </tr>\n",
       "    <tr>\n",
       "      <th>4</th>\n",
       "      <td>2002218453</td>\n",
       "      <td>2504846374</td>\n",
       "    </tr>\n",
       "  </tbody>\n",
       "</table>\n",
       "</div>"
      ],
      "text/plain": [
       "            A           B\n",
       "0  2002218453  1999212242\n",
       "1  2002218453  2032640503\n",
       "2  2002218453  2475931411\n",
       "3  2002218453  2477743428\n",
       "4  2002218453  2504846374"
      ]
     },
     "execution_count": 5,
     "metadata": {},
     "output_type": "execute_result"
    }
   ],
   "source": [
    "sym_ca=coauthors[coauthors.columns[::-1]].rename({\"A\": \"B\", \"B\":\"A\"}, axis=1) #df symétrique\n",
    "coauthors=pd.concat([coauthors, sym_ca], ignore_index=True)\n",
    "coauthors.head() "
   ]
  },
  {
   "cell_type": "code",
   "execution_count": 6,
   "id": "1f041d00",
   "metadata": {},
   "outputs": [],
   "source": [
    "nb_ca=coauthors[\"A\"].value_counts().to_frame()\n",
    "nb_ca= nb_ca.reset_index().rename(columns={\"index\":\"author\", \"A\":\"nb_ca\"})"
   ]
  },
  {
   "cell_type": "code",
   "execution_count": 45,
   "id": "e89e89f7",
   "metadata": {},
   "outputs": [
    {
     "data": {
      "image/png": "[encoded data removed]",
      "text/plain": [
       "<Figure size 432x288 with 1 Axes>"
      ]
     },
     "metadata": {
      "needs_background": "light"
     },
     "output_type": "display_data"
    }
   ],
   "source": [
    "ax=sn.histplot(data=coauthors[\"A\"].value_counts().values, bins=20, color=\"lightblue\")\n",
    "plt.xlim(left=100)\n",
    "plt.ylim(top=1600)\n",
    "plt.xlabel(\"Nombre de coauthorships\")\n",
    "plt.title(\"Répartition du nombre de coauthorships (à partir de >100)\", fontweight=\"bold\");"
   ]
  },
  {
   "cell_type": "markdown",
   "id": "3ee67e23",
   "metadata": {},
   "source": [
    "## Dummy models\n",
    "Pour estimer le h-index, on peut utiliser le nombre de coauthorships d'un auteur, et trouver la fonction qui lie cette quantité au h-index via un random forest."
   ]
  },
  {
   "cell_type": "code",
   "execution_count": 8,
   "id": "e8477210",
   "metadata": {},
   "outputs": [
    {
     "name": "stdout",
     "output_type": "stream",
     "text": [
      "Data is 0.80% for training and 0.20% out of a total of 217801 authors.\n"
     ]
    }
   ],
   "source": [
    "train_df=pd.read_csv(\"train.csv\")\n",
    "test_df=pd.read_csv(\"test.csv\", usecols=[1,2])\n",
    "\n",
    "n=len(train_df)+len(test_df)\n",
    "print(f\"Data is {len(train_df)/n:.2f}% for training and {len(test_df)/n:.2f}% out of a total of {n} authors.\")"
   ]
  },
  {
   "cell_type": "code",
   "execution_count": 9,
   "id": "4ac557e7",
   "metadata": {},
   "outputs": [
    {
     "name": "stdout",
     "output_type": "stream",
     "text": [
      "       author  hindex\n",
      "0  1964267543     4.0\n",
      "1  2153592714    13.0\n",
      "2   217158525     8.0\n",
      "3  2123103677    11.0\n",
      "4  2067710487     3.0\n"
     ]
    },
    {
     "data": {
      "text/html": [
       "<div>\n",
       "<style scoped>\n",
       "    .dataframe tbody tr th:only-of-type {\n",
       "        vertical-align: middle;\n",
       "    }\n",
       "\n",
       "    .dataframe tbody tr th {\n",
       "        vertical-align: top;\n",
       "    }\n",
       "\n",
       "    .dataframe thead th {\n",
       "        text-align: right;\n",
       "    }\n",
       "</style>\n",
       "<table border=\"1\" class=\"dataframe\">\n",
       "  <thead>\n",
       "    <tr style=\"text-align: right;\">\n",
       "      <th></th>\n",
       "      <th>author</th>\n",
       "      <th>nb_ca</th>\n",
       "    </tr>\n",
       "  </thead>\n",
       "  <tbody>\n",
       "    <tr>\n",
       "      <th>0</th>\n",
       "      <td>2165140224</td>\n",
       "      <td>1483</td>\n",
       "    </tr>\n",
       "    <tr>\n",
       "      <th>1</th>\n",
       "      <td>2058546385</td>\n",
       "      <td>1398</td>\n",
       "    </tr>\n",
       "    <tr>\n",
       "      <th>2</th>\n",
       "      <td>1503156915</td>\n",
       "      <td>1280</td>\n",
       "    </tr>\n",
       "    <tr>\n",
       "      <th>3</th>\n",
       "      <td>2566088697</td>\n",
       "      <td>1219</td>\n",
       "    </tr>\n",
       "    <tr>\n",
       "      <th>4</th>\n",
       "      <td>426605697</td>\n",
       "      <td>1187</td>\n",
       "    </tr>\n",
       "  </tbody>\n",
       "</table>\n",
       "</div>"
      ],
      "text/plain": [
       "       author  nb_ca\n",
       "0  2165140224   1483\n",
       "1  2058546385   1398\n",
       "2  1503156915   1280\n",
       "3  2566088697   1219\n",
       "4   426605697   1187"
      ]
     },
     "execution_count": 9,
     "metadata": {},
     "output_type": "execute_result"
    }
   ],
   "source": [
    "print(train_df.head())\n",
    "nb_ca.head()"
   ]
  },
  {
   "cell_type": "code",
   "execution_count": 31,
   "id": "ceffad7b",
   "metadata": {},
   "outputs": [
    {
     "data": {
      "text/plain": [
       "author    int64\n",
       "nb_ca     int64\n",
       "dtype: object"
      ]
     },
     "execution_count": 31,
     "metadata": {},
     "output_type": "execute_result"
    }
   ],
   "source": [
    "nb_ca.dtypes"
   ]
  },
  {
   "cell_type": "code",
   "execution_count": 20,
   "id": "d9ca9857",
   "metadata": {},
   "outputs": [
    {
     "data": {
      "text/html": [
       "<div>\n",
       "<style scoped>\n",
       "    .dataframe tbody tr th:only-of-type {\n",
       "        vertical-align: middle;\n",
       "    }\n",
       "\n",
       "    .dataframe tbody tr th {\n",
       "        vertical-align: top;\n",
       "    }\n",
       "\n",
       "    .dataframe thead th {\n",
       "        text-align: right;\n",
       "    }\n",
       "</style>\n",
       "<table border=\"1\" class=\"dataframe\">\n",
       "  <thead>\n",
       "    <tr style=\"text-align: right;\">\n",
       "      <th></th>\n",
       "      <th>author</th>\n",
       "      <th>nb_ca</th>\n",
       "      <th>hindex</th>\n",
       "    </tr>\n",
       "  </thead>\n",
       "  <tbody>\n",
       "    <tr>\n",
       "      <th>count</th>\n",
       "      <td>1.742410e+05</td>\n",
       "      <td>174241.000000</td>\n",
       "      <td>174241.000000</td>\n",
       "    </tr>\n",
       "    <tr>\n",
       "      <th>mean</th>\n",
       "      <td>2.001807e+09</td>\n",
       "      <td>15.871345</td>\n",
       "      <td>10.087609</td>\n",
       "    </tr>\n",
       "    <tr>\n",
       "      <th>std</th>\n",
       "      <td>6.350051e+08</td>\n",
       "      <td>68.750700</td>\n",
       "      <td>12.588073</td>\n",
       "    </tr>\n",
       "    <tr>\n",
       "      <th>min</th>\n",
       "      <td>1.515524e+06</td>\n",
       "      <td>1.000000</td>\n",
       "      <td>1.000000</td>\n",
       "    </tr>\n",
       "    <tr>\n",
       "      <th>25%</th>\n",
       "      <td>2.021314e+09</td>\n",
       "      <td>2.000000</td>\n",
       "      <td>3.000000</td>\n",
       "    </tr>\n",
       "    <tr>\n",
       "      <th>50%</th>\n",
       "      <td>2.134751e+09</td>\n",
       "      <td>4.000000</td>\n",
       "      <td>6.000000</td>\n",
       "    </tr>\n",
       "    <tr>\n",
       "      <th>75%</th>\n",
       "      <td>2.288318e+09</td>\n",
       "      <td>8.000000</td>\n",
       "      <td>12.000000</td>\n",
       "    </tr>\n",
       "    <tr>\n",
       "      <th>max</th>\n",
       "      <td>2.908499e+09</td>\n",
       "      <td>1483.000000</td>\n",
       "      <td>187.000000</td>\n",
       "    </tr>\n",
       "  </tbody>\n",
       "</table>\n",
       "</div>"
      ],
      "text/plain": [
       "             author          nb_ca         hindex\n",
       "count  1.742410e+05  174241.000000  174241.000000\n",
       "mean   2.001807e+09      15.871345      10.087609\n",
       "std    6.350051e+08      68.750700      12.588073\n",
       "min    1.515524e+06       1.000000       1.000000\n",
       "25%    2.021314e+09       2.000000       3.000000\n",
       "50%    2.134751e+09       4.000000       6.000000\n",
       "75%    2.288318e+09       8.000000      12.000000\n",
       "max    2.908499e+09    1483.000000     187.000000"
      ]
     },
     "execution_count": 20,
     "metadata": {},
     "output_type": "execute_result"
    }
   ],
   "source": [
    "data_train=nb_ca.merge(train_df, on=\"author\", how=\"inner\")\n",
    "data_train.describe()"
   ]
  },
  {
   "cell_type": "code",
   "execution_count": 21,
   "id": "1346dc24",
   "metadata": {},
   "outputs": [
    {
     "data": {
      "text/plain": [
       "False"
      ]
     },
     "execution_count": 21,
     "metadata": {},
     "output_type": "execute_result"
    }
   ],
   "source": [
    "data_train.isnull().values.any()"
   ]
  },
  {
   "cell_type": "code",
   "execution_count": 12,
   "id": "ba229662",
   "metadata": {},
   "outputs": [
    {
     "data": {
      "text/plain": [
       "<seaborn.axisgrid.JointGrid at 0x12c814bf2b0>"
      ]
     },
     "execution_count": 12,
     "metadata": {},
     "output_type": "execute_result"
    },
    {
     "data": {
      "image/png": "[encoded data removed]",
      "text/plain": [
       "<Figure size 432x432 with 3 Axes>"
      ]
     },
     "metadata": {
      "needs_background": "light"
     },
     "output_type": "display_data"
    }
   ],
   "source": [
    "sn.jointplot(data=data_train, x=\"nb_ca\", y=\"hindex\", kind=\"reg\", color=\"#a74bf5\", ratio=2, marginal_kws=dict(bins=50, color=\"b\"))"
   ]
  },
  {
   "cell_type": "markdown",
   "id": "4dab4fb8",
   "metadata": {},
   "source": [
    "Hindex et nombre de coauthorships d'un auteur sont donc correlés. Mettons en place directement un modèle simple qui utilise cette correlation, ce qui nous permettra de base de comparaison avec les modèles postérieurs plus complexes."
   ]
  },
  {
   "cell_type": "code",
   "execution_count": 13,
   "id": "2265a679",
   "metadata": {},
   "outputs": [],
   "source": [
    "from sklearn import preprocessing\n",
    "from sklearn.model_selection import KFold\n",
    "from sklearn.linear_model import LinearRegression"
   ]
  },
  {
   "cell_type": "code",
   "execution_count": 29,
   "id": "a3672b0b",
   "metadata": {},
   "outputs": [
    {
     "name": "stdout",
     "output_type": "stream",
     "text": [
      "La moyenne des coefficient R^2 des 10 folds est de 0.173.\n",
      "La moyenne des MSE des 10 folds est de 132.31.\n"
     ]
    }
   ],
   "source": [
    "scores = []\n",
    "mses = []\n",
    "model=LinearRegression()\n",
    "kfold = KFold(n_splits=10, shuffle=True)\n",
    "X,y=data_train[\"nb_ca\"].values.reshape(-1, 1), data_train[\"hindex\"].values.reshape(-1, 1)\n",
    "\n",
    "for i, (train, test) in enumerate(kfold.split(X, y)):\n",
    "    model.fit(X[train], y[train])\n",
    "    score = model.score(X[test], y[test])\n",
    "    scores.append(score)\n",
    "    mses.append(mean_squared_error(model.predict(X[test]), y[test]))\n",
    "print(f\"La moyenne des coefficient R^2 des 10 folds est de {np.mean(score):.3f}.\")\n",
    "print(f\"La moyenne des MSE des 10 folds est de {np.mean(mses):.2f}.\")\n"
   ]
  },
  {
   "cell_type": "markdown",
   "id": "4ecf0dda",
   "metadata": {},
   "source": [
    "Cette prédiction n'est pas très satisfaisante. Il est nécessaire de prendre en place la structure de graph et d'encoder le texte afin d'avoir plus d'informations pour prédire le h index. En fait, l'architecture des GNN permet d'encoder les caractéristiques des noeuds, et notamment le degré de celui ci. "
   ]
  },
  {
   "cell_type": "markdown",
   "id": "0a4e4af8",
   "metadata": {},
   "source": [
    "## Preprocessing\n"
   ]
  },
  {
   "cell_type": "code",
   "execution_count": 16,
   "id": "6aeb97cf",
   "metadata": {},
   "outputs": [
    {
     "data": {
      "text/html": [
       "<div>\n",
       "<style scoped>\n",
       "    .dataframe tbody tr th:only-of-type {\n",
       "        vertical-align: middle;\n",
       "    }\n",
       "\n",
       "    .dataframe tbody tr th {\n",
       "        vertical-align: top;\n",
       "    }\n",
       "\n",
       "    .dataframe thead th {\n",
       "        text-align: right;\n",
       "    }\n",
       "</style>\n",
       "<table border=\"1\" class=\"dataframe\">\n",
       "  <thead>\n",
       "    <tr style=\"text-align: right;\">\n",
       "      <th></th>\n",
       "      <th>author</th>\n",
       "      <th>nb_ca</th>\n",
       "    </tr>\n",
       "  </thead>\n",
       "  <tbody>\n",
       "    <tr>\n",
       "      <th>count</th>\n",
       "      <td>1.742410e+05</td>\n",
       "      <td>174241.000000</td>\n",
       "    </tr>\n",
       "    <tr>\n",
       "      <th>mean</th>\n",
       "      <td>2.001807e+09</td>\n",
       "      <td>15.871345</td>\n",
       "    </tr>\n",
       "    <tr>\n",
       "      <th>std</th>\n",
       "      <td>6.350051e+08</td>\n",
       "      <td>68.750700</td>\n",
       "    </tr>\n",
       "    <tr>\n",
       "      <th>min</th>\n",
       "      <td>1.515524e+06</td>\n",
       "      <td>1.000000</td>\n",
       "    </tr>\n",
       "    <tr>\n",
       "      <th>25%</th>\n",
       "      <td>2.021314e+09</td>\n",
       "      <td>2.000000</td>\n",
       "    </tr>\n",
       "    <tr>\n",
       "      <th>50%</th>\n",
       "      <td>2.134751e+09</td>\n",
       "      <td>4.000000</td>\n",
       "    </tr>\n",
       "    <tr>\n",
       "      <th>75%</th>\n",
       "      <td>2.288318e+09</td>\n",
       "      <td>8.000000</td>\n",
       "    </tr>\n",
       "    <tr>\n",
       "      <th>max</th>\n",
       "      <td>2.908499e+09</td>\n",
       "      <td>1483.000000</td>\n",
       "    </tr>\n",
       "  </tbody>\n",
       "</table>\n",
       "</div>"
      ],
      "text/plain": [
       "             author          nb_ca\n",
       "count  1.742410e+05  174241.000000\n",
       "mean   2.001807e+09      15.871345\n",
       "std    6.350051e+08      68.750700\n",
       "min    1.515524e+06       1.000000\n",
       "25%    2.021314e+09       2.000000\n",
       "50%    2.134751e+09       4.000000\n",
       "75%    2.288318e+09       8.000000\n",
       "max    2.908499e+09    1483.000000"
      ]
     },
     "execution_count": 16,
     "metadata": {},
     "output_type": "execute_result"
    }
   ],
   "source": [
    "target=data_train[\"hindex\"]\n",
    "data_train=data_train.drop(columns=\"hindex\")\n",
    "data_train.describe()"
   ]
  },
  {
   "cell_type": "markdown",
   "id": "569c64ef",
   "metadata": {},
   "source": [
    "Normalizing target value"
   ]
  },
  {
   "cell_type": "markdown",
   "id": "98b403d1",
   "metadata": {},
   "source": [
    "## Feature extraction"
   ]
  },
  {
   "cell_type": "markdown",
   "id": "d84ba029",
   "metadata": {},
   "source": [
    "### Common neighbours"
   ]
  }
 ],
 "metadata": {
  "kernelspec": {
   "display_name": "Python 3",
   "language": "python",
   "name": "python3"
  },
  "language_info": {
   "codemirror_mode": {
    "name": "ipython",
    "version": 3
   },
   "file_extension": ".py",
   "mimetype": "text/x-python",
   "name": "python",
   "nbconvert_exporter": "python",
   "pygments_lexer": "ipython3",
   "version": "3.8.8"
  }
 },
 "nbformat": 4,
 "nbformat_minor": 5
}
